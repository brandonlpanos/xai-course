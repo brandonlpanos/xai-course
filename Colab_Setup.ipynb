{
  "nbformat": 4,
  "nbformat_minor": 0,
  "metadata": {
    "colab": {
      "provenance": [],
      "authorship_tag": "ABX9TyNZBvc9WXzy+tK5JQRgwC5s",
      "include_colab_link": true
    },
    "kernelspec": {
      "name": "python3",
      "display_name": "Python 3"
    },
    "language_info": {
      "name": "python"
    }
  },
  "cells": [
    {
      "cell_type": "markdown",
      "metadata": {
        "id": "view-in-github",
        "colab_type": "text"
      },
      "source": [
        "<a href=\"https://colab.research.google.com/github/brandonlpanos/xai-course/blob/main/Colab_Setup.ipynb\" target=\"_parent\"><img src=\"https://colab.research.google.com/assets/colab-badge.svg\" alt=\"Open In Colab\"/></a>"
      ]
    },
    {
      "cell_type": "code",
      "execution_count": null,
      "metadata": {
        "id": "q-BOhsjTuJq1"
      },
      "outputs": [],
      "source": [
        "# Clone the GitHub repository\n",
        "!git clone https://github.com/brandonlpanos/xai-course.git\n",
        "\n",
        "# Change to the repository directory to install requirements\n",
        "%cd xai-course\n",
        "\n",
        "# Install necessary packages\n",
        "!pip install -r requirements.txt\n",
        "\n",
        "print(\"\\nSetup complete! You can now open and run the notebooks located in the 'xai-course/notebooks' directory.\")"
      ]
    }
  ]
}