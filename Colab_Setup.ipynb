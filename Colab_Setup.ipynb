{
  "nbformat": 4,
  "nbformat_minor": 0,
  "metadata": {
    "colab": {
      "provenance": [],
      "authorship_tag": "ABX9TyMgF7/kfxnshJ+5l7dQSFKs",
      "include_colab_link": true
    },
    "kernelspec": {
      "name": "python3",
      "display_name": "Python 3"
    },
    "language_info": {
      "name": "python"
    }
  },
  "cells": [
    {
      "cell_type": "markdown",
      "metadata": {
        "id": "view-in-github",
        "colab_type": "text"
      },
      "source": [
        "<a href=\"https://colab.research.google.com/github/brandonlpanos/xai-course/blob/main/Colab_Setup.ipynb\" target=\"_parent\"><img src=\"https://colab.research.google.com/assets/colab-badge.svg\" alt=\"Open In Colab\"/></a>"
      ]
    },
    {
      "cell_type": "code",
      "execution_count": null,
      "metadata": {
        "id": "q-BOhsjTuJq1"
      },
      "outputs": [],
      "source": [
        "# First, ensure we are in the root /content directory of the Colab environment\n",
        "%cd /content\n",
        "\n",
        "import os\n",
        "\n",
        "# Define your repository name\n",
        "repo_name = \"xai-course\"\n",
        "\n",
        "# Clone the GitHub repository if it hasn't been cloned already\n",
        "if not os.path.exists(repo_name):\n",
        "    print(f\"Cloning {repo_name}...\")\n",
        "    !git clone https://github.com/brandonlpanos/{repo_name}.git\n",
        "    print(\"Repository cloned successfully!\")\n",
        "else:\n",
        "    print(f\"Repository '{repo_name}' already exists. Skipping clone.\")\n",
        "\n",
        "# Navigate into the cloned repository directory to install requirements\n",
        "# All subsequent operations will assume this is the current working directory\n",
        "%cd {repo_name}\n",
        "\n",
        "# Install necessary packages from requirements.txt\n",
        "print(\"\\nInstalling requirements...\")\n",
        "!pip install -r requirements.txt\n",
        "print(\"Requirements installed!\")\n",
        "\n",
        "print(\"\\n-------------------------------------------------\")\n",
        "print(\"Setup complete! Your environment is ready.\")\n",
        "print(f\"You can now open the tutorial notebooks from the '{repo_name}/notebooks/' folder in the file browser (left sidebar).\")\n",
        "print(\"-------------------------------------------------\")"
      ]
    }
  ]
}